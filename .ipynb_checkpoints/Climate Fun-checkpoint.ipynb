{
 "cells": [
  {
   "cell_type": "markdown",
   "metadata": {},
   "source": [
    "# Quick Fun With Climate Data\n",
    "Patrick Old  \n",
    "May 2020"
   ]
  },
  {
   "cell_type": "code",
   "execution_count": 1,
   "metadata": {},
   "outputs": [],
   "source": [
    "import xarray\n",
    "import numpy as np\n",
    "import matplotlib.pyplot as plt"
   ]
  },
  {
   "cell_type": "markdown",
   "metadata": {},
   "source": [
    "# WOA Data\n",
    "\n",
    "Source: https://www.nodc.noaa.gov/cgi-bin/OC5/woa18/woa18.pl\n",
    "\n",
    "One of the datasets and its information are seen below. Note the 4-D nature of the dataset, and the varieties of temperature data provided (included our variable of choice, t_an representing the interpolated statistical mean for each dataset)."
   ]
  },
  {
   "cell_type": "code",
   "execution_count": 2,
   "metadata": {},
   "outputs": [
    {
     "data": {
      "text/html": [
       "<pre>&lt;xarray.Dataset&gt;\n",
       "Dimensions:             (depth: 102, lat: 720, lon: 1440, nbounds: 2, time: 1)\n",
       "Coordinates:\n",
       "  * lat                 (lat) float32 -89.875 -89.625 -89.375 ... 89.625 89.875\n",
       "  * lon                 (lon) float32 -179.875 -179.625 ... 179.625 179.875\n",
       "  * depth               (depth) float32 0.0 5.0 10.0 ... 5300.0 5400.0 5500.0\n",
       "  * time                (time) float32 52.5\n",
       "Dimensions without coordinates: nbounds\n",
       "Data variables:\n",
       "    crs                 int32 -2147483647\n",
       "    lat_bnds            (lat, nbounds) float32 -90.0 -89.75 ... 89.75 90.0\n",
       "    lon_bnds            (lon, nbounds) float32 -180.0 -179.75 ... 179.75 180.0\n",
       "    depth_bnds          (depth, nbounds) float32 0.0 2.5 2.5 ... 5450.0 5500.0\n",
       "    climatology_bounds  (time, nbounds) float32 3.0 114.0\n",
       "    t_an                (time, depth, lat, lon) float32 nan nan nan ... nan nan\n",
       "    t_mn                (time, depth, lat, lon) float32 nan nan nan ... nan nan\n",
       "    t_dd                (time, depth, lat, lon) float64 nan nan nan ... nan nan\n",
       "    t_sd                (time, depth, lat, lon) float32 nan nan nan ... nan nan\n",
       "    t_se                (time, depth, lat, lon) float32 nan nan nan ... nan nan\n",
       "    t_oa                (time, depth, lat, lon) float32 nan nan nan ... nan nan\n",
       "    t_ma                (time, depth, lat, lon) float32 nan nan nan ... nan nan\n",
       "    t_gp                (time, depth, lat, lon) float64 nan nan nan ... nan nan\n",
       "Attributes:\n",
       "    Conventions:                     CF-1.6, ACDD-1.3\n",
       "    title:                           World Ocean Atlas 2018 : sea_water_tempe...\n",
       "    summary:                         Climatological mean temperature for the ...\n",
       "    references:                      Locarnini, R. A., A. V. Mishonov, O. K. ...\n",
       "    institution:                     National Centers for Environmental Infor...\n",
       "    comment:                         global climatology as part of the World ...\n",
       "    id:                              woa18_95A4_t14_04.nc\n",
       "    naming_authority:                gov.noaa.ncei\n",
       "    sea_name:                        World-Wide Distribution\n",
       "    time_coverage_start:             1995-04-01\n",
       "    time_coverage_end:               2004-04-30\n",
       "    time_coverage_duration:          P10Y\n",
       "    time_coverage_resolution:        P03M\n",
       "    geospatial_lat_min:              -90.0\n",
       "    geospatial_lat_max:              90.0\n",
       "    geospatial_lon_min:              -180.0\n",
       "    geospatial_lon_max:              180.0\n",
       "    geospatial_vertical_min:         0.0\n",
       "    geospatial_vertical_max:         5500.0\n",
       "    geospatial_lat_units:            degrees_north\n",
       "    geospatial_lat_resolution:       0.25 degrees\n",
       "    geospatial_lon_units:            degrees_east\n",
       "    geospatial_lon_resolution:       0.25 degrees\n",
       "    geospatial_vertical_units:       m\n",
       "    geospatial_vertical_resolution:  SPECIAL\n",
       "    geospatial_vertical_positive:    down\n",
       "    creator_name:                    Ocean Climate Laboratory\n",
       "    creator_email:                   NCEI.info@noaa.gov\n",
       "    creator_url:                     http://www.ncei.noaa.gov\n",
       "    creator_type:                    group\n",
       "    creator_institution:             National Centers for Environmental Infor...\n",
       "    project:                         World Ocean Atlas Project\n",
       "    processing_level:                processed\n",
       "    keywords:                        Oceans&lt; Ocean Temperature &gt; Water Temper...\n",
       "    keywords_vocabulary:             ISO 19115\n",
       "    standard_name_vocabulary:        CF Standard Name Table v49\n",
       "    contributor_name:                Ocean Climate Laboratory\n",
       "    contributor_role:                Calculation of climatologies\n",
       "    cdm_data_type:                   Grid\n",
       "    publisher_name:                  National Centers for Environmental Infor...\n",
       "    publisher_institution:           National Centers for Environmental Infor...\n",
       "    publisher_type:                  institution\n",
       "    publisher_url:                   http://www.ncei.noaa.gov/\n",
       "    publisher_email:                 NCEI.info@noaa.gov\n",
       "    nodc_template_version:           NODC_NetCDF_Grid_Template_v2.0\n",
       "    license:                         These data are openly available to the p...\n",
       "    metadata_link:                   https://www.nodc.noaa.gov/OC5/woa18/\n",
       "    date_created:                    2019-07-28 \n",
       "    date_modified:                   2019-07-28 </pre>"
      ],
      "text/plain": [
       "<xarray.Dataset>\n",
       "Dimensions:             (depth: 102, lat: 720, lon: 1440, nbounds: 2, time: 1)\n",
       "Coordinates:\n",
       "  * lat                 (lat) float32 -89.875 -89.625 -89.375 ... 89.625 89.875\n",
       "  * lon                 (lon) float32 -179.875 -179.625 ... 179.625 179.875\n",
       "  * depth               (depth) float32 0.0 5.0 10.0 ... 5300.0 5400.0 5500.0\n",
       "  * time                (time) float32 52.5\n",
       "Dimensions without coordinates: nbounds\n",
       "Data variables:\n",
       "    crs                 int32 -2147483647\n",
       "    lat_bnds            (lat, nbounds) float32 -90.0 -89.75 ... 89.75 90.0\n",
       "    lon_bnds            (lon, nbounds) float32 -180.0 -179.75 ... 179.75 180.0\n",
       "    depth_bnds          (depth, nbounds) float32 0.0 2.5 2.5 ... 5450.0 5500.0\n",
       "    climatology_bounds  (time, nbounds) float32 3.0 114.0\n",
       "    t_an                (time, depth, lat, lon) float32 nan nan nan ... nan nan\n",
       "    t_mn                (time, depth, lat, lon) float32 nan nan nan ... nan nan\n",
       "    t_dd                (time, depth, lat, lon) float64 nan nan nan ... nan nan\n",
       "    t_sd                (time, depth, lat, lon) float32 nan nan nan ... nan nan\n",
       "    t_se                (time, depth, lat, lon) float32 nan nan nan ... nan nan\n",
       "    t_oa                (time, depth, lat, lon) float32 nan nan nan ... nan nan\n",
       "    t_ma                (time, depth, lat, lon) float32 nan nan nan ... nan nan\n",
       "    t_gp                (time, depth, lat, lon) float64 nan nan nan ... nan nan\n",
       "Attributes:\n",
       "    Conventions:                     CF-1.6, ACDD-1.3\n",
       "    title:                           World Ocean Atlas 2018 : sea_water_tempe...\n",
       "    summary:                         Climatological mean temperature for the ...\n",
       "    references:                      Locarnini, R. A., A. V. Mishonov, O. K. ...\n",
       "    institution:                     National Centers for Environmental Infor...\n",
       "    comment:                         global climatology as part of the World ...\n",
       "    id:                              woa18_95A4_t14_04.nc\n",
       "    naming_authority:                gov.noaa.ncei\n",
       "    sea_name:                        World-Wide Distribution\n",
       "    time_coverage_start:             1995-04-01\n",
       "    time_coverage_end:               2004-04-30\n",
       "    time_coverage_duration:          P10Y\n",
       "    time_coverage_resolution:        P03M\n",
       "    geospatial_lat_min:              -90.0\n",
       "    geospatial_lat_max:              90.0\n",
       "    geospatial_lon_min:              -180.0\n",
       "    geospatial_lon_max:              180.0\n",
       "    geospatial_vertical_min:         0.0\n",
       "    geospatial_vertical_max:         5500.0\n",
       "    geospatial_lat_units:            degrees_north\n",
       "    geospatial_lat_resolution:       0.25 degrees\n",
       "    geospatial_lon_units:            degrees_east\n",
       "    geospatial_lon_resolution:       0.25 degrees\n",
       "    geospatial_vertical_units:       m\n",
       "    geospatial_vertical_resolution:  SPECIAL\n",
       "    geospatial_vertical_positive:    down\n",
       "    creator_name:                    Ocean Climate Laboratory\n",
       "    creator_email:                   NCEI.info@noaa.gov\n",
       "    creator_url:                     http://www.ncei.noaa.gov\n",
       "    creator_type:                    group\n",
       "    creator_institution:             National Centers for Environmental Infor...\n",
       "    project:                         World Ocean Atlas Project\n",
       "    processing_level:                processed\n",
       "    keywords:                        Oceans< Ocean Temperature > Water Temper...\n",
       "    keywords_vocabulary:             ISO 19115\n",
       "    standard_name_vocabulary:        CF Standard Name Table v49\n",
       "    contributor_name:                Ocean Climate Laboratory\n",
       "    contributor_role:                Calculation of climatologies\n",
       "    cdm_data_type:                   Grid\n",
       "    publisher_name:                  National Centers for Environmental Infor...\n",
       "    publisher_institution:           National Centers for Environmental Infor...\n",
       "    publisher_type:                  institution\n",
       "    publisher_url:                   http://www.ncei.noaa.gov/\n",
       "    publisher_email:                 NCEI.info@noaa.gov\n",
       "    nodc_template_version:           NODC_NetCDF_Grid_Template_v2.0\n",
       "    license:                         These data are openly available to the p...\n",
       "    metadata_link:                   https://www.nodc.noaa.gov/OC5/woa18/\n",
       "    date_created:                    2019-07-28 \n",
       "    date_modified:                   2019-07-28 "
      ]
     },
     "execution_count": 2,
     "metadata": {},
     "output_type": "execute_result"
    }
   ],
   "source": [
    "data = xarray.load_dataset(\"woa_data/woa18_95A4_t14_04.nc\", decode_times=False)\n",
    "data"
   ]
  },
  {
   "cell_type": "markdown",
   "metadata": {},
   "source": [
    "### Load In All Data Files\n",
    "Below the six files are loaded in and output as a numpy array. As each file represents a specific decade of observational temperature measurements, this is a 3-D array representing 2-D space and time."
   ]
  },
  {
   "cell_type": "code",
   "execution_count": 25,
   "metadata": {},
   "outputs": [],
   "source": [
    "import os\n",
    "\n",
    "def load_woa(data_dir = \"woa_data/\"):\n",
    "    \"\"\"This function loads in all of the World Ocean Atlas datasets and outputs a dictionary\n",
    "    mapping a year (string) to a 2-D array of surface temperature values for that time.\"\"\"\n",
    "    output = {}\n",
    "    for i, f in enumerate(os.listdir(data_dir)):\n",
    "        if '.nc' in f: # Ignore non-data files\n",
    "            data = xarray.open_dataset(data_dir + f, decode_times=False) # Open one of the files\n",
    "            data_interp = data['t_an'] # Get interpolated temperature mean\n",
    "            data_time_mean = data_interp.mean('time') # Average out one time in the time dimension\n",
    "            data_surface = data_time_mean[0,:,:] # Get surface ocean values\n",
    "            output[data.time.units[13:17]] = data_surface # Map year to 2-D surface values\n",
    "            data.close()\n",
    "    return output"
   ]
  },
  {
   "cell_type": "code",
   "execution_count": 33,
   "metadata": {},
   "outputs": [],
   "source": [
    "all_woa = load_woa()"
   ]
  },
  {
   "cell_type": "code",
   "execution_count": 41,
   "metadata": {},
   "outputs": [],
   "source": [
    "def sorted_woa_data(woa_data):\n",
    "    \"\"\"This function takes in a dictionary of years -> 2-D surface ocean arrays for that year. It returns\n",
    "    this data in a 3-D array, sorted by year.\"\"\"\n",
    "    output = []\n",
    "    for k in sorted(woa_data):\n",
    "        output.append(woa_data[k])\n",
    "    return np.array(output)"
   ]
  },
  {
   "cell_type": "code",
   "execution_count": null,
   "metadata": {},
   "outputs": [],
   "source": [
    "surface_woa_sorted = sorted_woa_data(all_woa)"
   ]
  },
  {
   "cell_type": "markdown",
   "metadata": {},
   "source": [
    "### Animation\n",
    "The animation is created here. It is not visualized well, only as a single figure, but it is saved as a gif to use elsewhere."
   ]
  },
  {
   "cell_type": "code",
   "execution_count": null,
   "metadata": {},
   "outputs": [],
   "source": [
    "def make_plot_titles(woa_data):\n",
    "    \"\"\"This function takes in a dictionary of years -> 2-D surface ocean arrays for that year. It returns\n",
    "    the decade that the year is in in the form of a string.\"\"\"\n",
    "    output = []\n",
    "    for year in sorted(woa_data): # List of keys, sorted\n",
    "        output.append(year[:3] + '0s')\n",
    "    return output"
   ]
  },
  {
   "cell_type": "code",
   "execution_count": 5,
   "metadata": {},
   "outputs": [
    {
     "name": "stderr",
     "output_type": "stream",
     "text": [
      "MovieWriter ffmpeg unavailable; trying to use <class 'matplotlib.animation.PillowWriter'> instead.\n"
     ]
    },
    {
     "data": {
      "image/png": "[encoded data removed]",
      "text/plain": [
       "<Figure size 720x720 with 1 Axes>"
      ]
     },
     "metadata": {
      "needs_background": "light"
     },
     "output_type": "display_data"
    }
   ],
   "source": [
    "import numpy as np\n",
    "import matplotlib.pyplot as plt\n",
    "import matplotlib.animation as animation\n",
    "import calendar\n",
    "\n",
    "fig,ax = plt.subplots(figsize=(10,10))\n",
    "\n",
    "titles = make_plot_titles(all_woa)\n",
    "\n",
    "def animate(i):\n",
    "    \"\"\"This function adds animation functionality to the figure.\"\"\"\n",
    "    ax.clear()\n",
    "    ax.contourf(all_woa[i,:,:], cmap=plt.cm.rainbow)\n",
    "    ax.set_title('WOA Decadal Temperatures ' + titles[i], size=20)\n",
    "    ax.set_xticks(np.arange(0, 1441, 80))\n",
    "    ax.set_xticklabels(np.arange(-180, 181, 20))\n",
    "    ax.set_yticks(np.arange(0, 721, 40))\n",
    "    ax.set_yticklabels(np.arange(-90, 91, 10))\n",
    "    ax.set_xlabel(\"Longitude [degrees east]\", size=12)\n",
    "    ax.set_ylabel(\"Latitude [degrees north]\", size=12)\n",
    "\n",
    "interval = 0.4#in seconds \n",
    "ani = animation.FuncAnimation(fig,animate,6,interval=interval*1e+3,blit=False)\n",
    "\n",
    "ani.save(\"woa_all_test.gif\")\n",
    "plt.show()"
   ]
  }
 ],
 "metadata": {
  "kernelspec": {
   "display_name": "Python 3",
   "language": "python",
   "name": "python3"
  },
  "language_info": {
   "codemirror_mode": {
    "name": "ipython",
    "version": 3
   },
   "file_extension": ".py",
   "mimetype": "text/x-python",
   "name": "python",
   "nbconvert_exporter": "python",
   "pygments_lexer": "ipython3",
   "version": "3.7.6"
  }
 },
 "nbformat": 4,
 "nbformat_minor": 4
}
